{
  "cells": [
    {
      "cell_type": "markdown",
      "metadata": {
        "id": "GMfgFF6ZTJna"
      },
      "source": []
    },
    {
      "cell_type": "markdown",
      "metadata": {
        "id": "EG-P1-7UXX8_"
      },
      "source": [
        "# Usage:\n",
        "\n",
        "Note that if you want to train the CNN, GPU runtime is recommended."
      ]
    },
    {
      "cell_type": "code",
      "execution_count": 7,
      "metadata": {
        "colab": {
          "base_uri": "https://localhost:8080/"
        },
        "id": "D-pqEI3s6fo6",
        "outputId": "0031a80f-3dcd-4733-f35c-3fe1233a9999"
      },
      "outputs": [],
      "source": [
        "# ! git clone https://github.com/google-research/slip\n",
        "# %cd slip\n",
        "\n",
        "from slip import experiment\n",
        "from slip import models\n",
        "from slip import potts_model\n",
        "from slip import sampling\n",
        "from slip import utils\n",
        "from slip import tuning\n",
        "\n",
        "import numpy as np\n",
        "import itertools\n",
        "import seaborn as sns\n",
        "import matplotlib.pyplot as plt\n",
        "from tqdm.auto import tqdm\n",
        "from multiprocessing import Pool\n",
        "from operator import itemgetter\n",
        "import pandas as pd\n",
        "\n",
        "\n",
        "ALL_AAS = 'ARNDCQEGHILKMFPSTWYV'"
      ]
    },
    {
      "cell_type": "markdown",
      "metadata": {},
      "source": [
        "# Calculate measured protein parameters"
      ]
    },
    {
      "cell_type": "code",
      "execution_count": 16,
      "metadata": {},
      "outputs": [
        {
          "data": {
            "text/html": [
              "<div>\n",
              "<style scoped>\n",
              "    .dataframe tbody tr th:only-of-type {\n",
              "        vertical-align: middle;\n",
              "    }\n",
              "\n",
              "    .dataframe tbody tr th {\n",
              "        vertical-align: top;\n",
              "    }\n",
              "\n",
              "    .dataframe thead th {\n",
              "        text-align: right;\n",
              "    }\n",
              "</style>\n",
              "<table border=\"1\" class=\"dataframe\">\n",
              "  <thead>\n",
              "    <tr style=\"text-align: right;\">\n",
              "      <th></th>\n",
              "      <th>AAs</th>\n",
              "      <th>HD</th>\n",
              "      <th>Count input</th>\n",
              "      <th>Count selected</th>\n",
              "      <th>fitness</th>\n",
              "      <th>centered_fitness</th>\n",
              "      <th>sequence</th>\n",
              "    </tr>\n",
              "  </thead>\n",
              "  <tbody>\n",
              "    <tr>\n",
              "      <th>28187</th>\n",
              "      <td>AAAA</td>\n",
              "      <td>4</td>\n",
              "      <td>25</td>\n",
              "      <td>147</td>\n",
              "      <td>1.611610</td>\n",
              "      <td>0.477234</td>\n",
              "      <td>[0, 0, 0, 0]</td>\n",
              "    </tr>\n",
              "    <tr>\n",
              "      <th>28188</th>\n",
              "      <td>AAAG</td>\n",
              "      <td>4</td>\n",
              "      <td>13</td>\n",
              "      <td>5</td>\n",
              "      <td>0.105417</td>\n",
              "      <td>-2.249835</td>\n",
              "      <td>[0, 0, 0, 7]</td>\n",
              "    </tr>\n",
              "    <tr>\n",
              "      <th>28189</th>\n",
              "      <td>AAAH</td>\n",
              "      <td>4</td>\n",
              "      <td>15</td>\n",
              "      <td>0</td>\n",
              "      <td>0.000000</td>\n",
              "      <td>-inf</td>\n",
              "      <td>[0, 0, 0, 8]</td>\n",
              "    </tr>\n",
              "    <tr>\n",
              "      <th>28190</th>\n",
              "      <td>AAAI</td>\n",
              "      <td>4</td>\n",
              "      <td>10</td>\n",
              "      <td>0</td>\n",
              "      <td>0.000000</td>\n",
              "      <td>-inf</td>\n",
              "      <td>[0, 0, 0, 9]</td>\n",
              "    </tr>\n",
              "    <tr>\n",
              "      <th>28191</th>\n",
              "      <td>AAAL</td>\n",
              "      <td>4</td>\n",
              "      <td>43</td>\n",
              "      <td>15</td>\n",
              "      <td>0.095610</td>\n",
              "      <td>-2.347473</td>\n",
              "      <td>[0, 0, 0, 10]</td>\n",
              "    </tr>\n",
              "    <tr>\n",
              "      <th>...</th>\n",
              "      <td>...</td>\n",
              "      <td>...</td>\n",
              "      <td>...</td>\n",
              "      <td>...</td>\n",
              "      <td>...</td>\n",
              "      <td>...</td>\n",
              "      <td>...</td>\n",
              "    </tr>\n",
              "    <tr>\n",
              "      <th>149357</th>\n",
              "      <td>YYYS</td>\n",
              "      <td>4</td>\n",
              "      <td>186</td>\n",
              "      <td>3</td>\n",
              "      <td>0.004421</td>\n",
              "      <td>-5.421457</td>\n",
              "      <td>[18, 18, 18, 15]</td>\n",
              "    </tr>\n",
              "    <tr>\n",
              "      <th>149358</th>\n",
              "      <td>YYYT</td>\n",
              "      <td>4</td>\n",
              "      <td>181</td>\n",
              "      <td>14</td>\n",
              "      <td>0.021200</td>\n",
              "      <td>-3.853763</td>\n",
              "      <td>[18, 18, 18, 16]</td>\n",
              "    </tr>\n",
              "    <tr>\n",
              "      <th>28186</th>\n",
              "      <td>YYYV</td>\n",
              "      <td>3</td>\n",
              "      <td>98</td>\n",
              "      <td>15</td>\n",
              "      <td>0.041952</td>\n",
              "      <td>-3.171240</td>\n",
              "      <td>[18, 18, 18, 19]</td>\n",
              "    </tr>\n",
              "    <tr>\n",
              "      <th>149359</th>\n",
              "      <td>YYYW</td>\n",
              "      <td>4</td>\n",
              "      <td>30</td>\n",
              "      <td>1</td>\n",
              "      <td>0.009136</td>\n",
              "      <td>-4.695520</td>\n",
              "      <td>[18, 18, 18, 17]</td>\n",
              "    </tr>\n",
              "    <tr>\n",
              "      <th>149360</th>\n",
              "      <td>YYYY</td>\n",
              "      <td>4</td>\n",
              "      <td>57</td>\n",
              "      <td>2</td>\n",
              "      <td>0.009617</td>\n",
              "      <td>-4.644227</td>\n",
              "      <td>[18, 18, 18, 18]</td>\n",
              "    </tr>\n",
              "  </tbody>\n",
              "</table>\n",
              "<p>149361 rows × 7 columns</p>\n",
              "</div>"
            ],
            "text/plain": [
              "         AAs  HD  Count input  Count selected   fitness  centered_fitness  \\\n",
              "28187   AAAA   4           25             147  1.611610          0.477234   \n",
              "28188   AAAG   4           13               5  0.105417         -2.249835   \n",
              "28189   AAAH   4           15               0  0.000000              -inf   \n",
              "28190   AAAI   4           10               0  0.000000              -inf   \n",
              "28191   AAAL   4           43              15  0.095610         -2.347473   \n",
              "...      ...  ..          ...             ...       ...               ...   \n",
              "149357  YYYS   4          186               3  0.004421         -5.421457   \n",
              "149358  YYYT   4          181              14  0.021200         -3.853763   \n",
              "28186   YYYV   3           98              15  0.041952         -3.171240   \n",
              "149359  YYYW   4           30               1  0.009136         -4.695520   \n",
              "149360  YYYY   4           57               2  0.009617         -4.644227   \n",
              "\n",
              "                sequence  \n",
              "28187       [0, 0, 0, 0]  \n",
              "28188       [0, 0, 0, 7]  \n",
              "28189       [0, 0, 0, 8]  \n",
              "28190       [0, 0, 0, 9]  \n",
              "28191      [0, 0, 0, 10]  \n",
              "...                  ...  \n",
              "149357  [18, 18, 18, 15]  \n",
              "149358  [18, 18, 18, 16]  \n",
              "28186   [18, 18, 18, 19]  \n",
              "149359  [18, 18, 18, 17]  \n",
              "149360  [18, 18, 18, 18]  \n",
              "\n",
              "[149361 rows x 7 columns]"
            ]
          },
          "execution_count": 16,
          "metadata": {},
          "output_type": "execute_result"
        }
      ],
      "source": [
        "import pandas as pd\n",
        "\n",
        "# Import the combo TrpB_data\n",
        "real_data = pd.read_csv('/home/zahra/Synthetic_Landscapes/Data/GB1/GB1_Fitness.csv').rename(columns={'Variants': 'AAs', 'Fitness': 'fitness'})\n",
        "# Combine and sort the data\n",
        "real_data = real_data.sort_values('AAs')\n",
        "\n",
        "# Add a column where no fitness values are below 0\n",
        "# wt = 'VFVS' # TrpB\n",
        "wt = 'VDGV' # GB1\n",
        "wt_fitness = real_data[real_data['AAs'] == wt]['fitness'].values[0]\n",
        "real_data['centered_fitness'] = real_data['fitness'].apply(lambda x: np.log(x/wt_fitness))\n",
        "\n",
        "real_fit_min = real_data['fitness'].min()\n",
        "\n",
        "# add a column where sequences are stored as [0, 1, 2, 3] where numbers correspond to amino acid index in ALL_AAS\n",
        "real_data['sequence'] = real_data['AAs'].apply(lambda x:[ALL_AAS.index(i) for i in x])\n",
        "\n",
        "real_data"
      ]
    },
    {
      "cell_type": "code",
      "execution_count": 17,
      "metadata": {},
      "outputs": [],
      "source": [
        "# calc adaptive singles (SLIP) from real landscape data\n",
        "\n",
        "def get_all_single_mutants(sequence, vocab_size):\n",
        "    \"\"\"Returns all single mutants of given `sequence`.\n",
        "\n",
        "    For a given sequence, at each position there are `vocab_size` - 1 possible\n",
        "    mutations.\n",
        "\n",
        "    Args:\n",
        "      sequence: A 1d vector of ints.\n",
        "      vocab_size: The vocabulary size.\n",
        "\n",
        "    Returns:\n",
        "      A [(V-1)*L, L] numpy array of integer encoded sequences, where L is the\n",
        "      length of the sequence and V is the vocab size.\n",
        "    \"\"\"\n",
        "    sequence = np.array(sequence)\n",
        "    seq_length = len(sequence)\n",
        "\n",
        "    all_singles = []\n",
        "    for pos in range(seq_length):\n",
        "        num_singles = vocab_size - 1\n",
        "        singles_at_pos = np.tile(sequence, (num_singles, 1))\n",
        "        delta = np.arange(1, vocab_size, 1)\n",
        "        singles_at_pos[:, pos] = (singles_at_pos[:, pos] + delta) % vocab_size\n",
        "        all_singles.extend(singles_at_pos.tolist())\n",
        "    return all_singles\n",
        "\n",
        "def get_adaptive_single_fraction(real_landscape: pd.DataFrame, wt) -> float:\n",
        "    \"\"\"Returns the fraction of single mutants with fitness >= to the wildtype fitness.\"\"\"\n",
        "    wt_encoded = [ALL_AAS.index(x) for x in wt]\n",
        "    all_singles = get_all_single_mutants(wt_encoded, 20)\n",
        "    wt_fitness = real_landscape[real_landscape.AAs==wt]['centered_fitness'].item()\n",
        "    mask = real_landscape.sequence.isin(all_singles)\n",
        "    real_landscape = real_landscape[mask]\n",
        "    fraction_adaptive = (real_landscape['centered_fitness'] >= wt_fitness).mean()\n",
        "    return fraction_adaptive"
      ]
    },
    {
      "cell_type": "code",
      "execution_count": 18,
      "metadata": {},
      "outputs": [],
      "source": [
        "# calculate epistasis stats (SLIP) from real landscape data\n",
        "    # Not centered on wt fitness = 0 (SLIP does this)\n",
        "def get_mutation_positions(sequence, parent):\n",
        "    \"\"\"Returns positions where sequence and parent disagree.\n",
        "\n",
        "    Args:\n",
        "      sequence: An int-encoded sequence.\n",
        "      parent: An int-encoded sequence of the same length as `sequence`.\n",
        "\n",
        "    Returns:\n",
        "      np.ndarray int array of positions where `sequence` and `parent` disagree.\n",
        "    \"\"\"\n",
        "    sequence = np.array(sequence)\n",
        "    parent = np.array(parent)\n",
        "    if len(sequence) != len(parent):\n",
        "        raise AssertionError('Input sequences must have equal length '\n",
        "                             '(%d vs. %d).' % (len(sequence), len(parent)))\n",
        "    return np.where(sequence != parent)[0]\n",
        "\n",
        "def get_doubles_df(real_landscape: pd.DataFrame, threshold: float, adaptive: bool, wt: str) -> pd.DataFrame:\n",
        "    \"\"\"Returns a DataFrame of all pairwise combinations of singles, where the singles are above/below a given fitness threshold.\n",
        "\n",
        "    For each double mutant, the DataFrame includes the columns:\n",
        "        'fitness': the fitness of the double.\n",
        "        'a_fitness': the fitness of the first constituent single.\n",
        "        'b_fitness': the fitness of the second constituent single.\n",
        "        'residual': the epistatic term: fitness(ab) - fitness(a) - fitness(b) + fitness(wt).\n",
        "\n",
        "    Args:\n",
        "        landscape: The landscape on which to compute double fitness.\n",
        "        threshold: The threshold fitness for filtering single mutants.\n",
        "        adaptive: A boolean, indicating, if True (False), to construct pairwise combinations from single mutants\n",
        "            that are above (below) the `threshold` fitness.\n",
        "\n",
        "    Returns:\n",
        "        A DataFrame of double mutants with keys 'fitness', 'a_fitness', 'b_fitness', and 'residual'.\n",
        "    \"\"\"\n",
        "    wt_seq = [ALL_AAS.index(x) for x in wt]\n",
        "\n",
        "    all_singles = get_all_single_mutants(wt_seq, 20)\n",
        "    df = real_landscape[real_landscape.sequence.isin(all_singles)]\n",
        "    if adaptive:\n",
        "        singles = df[df.centered_fitness >= threshold].sequence\n",
        "    else:\n",
        "        singles = df[df.centered_fitness < threshold].sequence\n",
        "    if len(singles) < 2:\n",
        "        raise ValueError(f'Invalid Landscape: fewer than 2 singles for threshold {threshold}')\n",
        "    doubles = []\n",
        "    single_a = []\n",
        "    single_b = []\n",
        "    for a, b in itertools.combinations(singles, 2):\n",
        "        # check that this is a true double\n",
        "        if get_mutation_positions(a, wt_seq) == get_mutation_positions(b, wt_seq):\n",
        "            continue\n",
        "        double = utils.add_seqs(a, b, wt_seq)[0]\n",
        "        doubles.append(double.tolist())\n",
        "        single_a.append(a)\n",
        "        single_b.append(b)\n",
        "    doubles_df = real_landscape[real_landscape.sequence.isin(doubles)]\n",
        "    single_a_df = pd.DataFrame({'sequence': [''.join([ALL_AAS[x] for x in s]) for s in single_a]})\n",
        "    single_a_fitness = pd.merge(single_a_df, real_landscape[['AAs', 'centered_fitness']], left_on='sequence', right_on='AAs', how='inner')\n",
        "    single_b_df = pd.DataFrame({'sequence': [''.join([ALL_AAS[x] for x in s]) for s in single_b]})\n",
        "    single_b_fitness = pd.merge(single_b_df, real_landscape[['AAs', 'centered_fitness']], left_on='sequence', right_on='AAs', how='inner')\n",
        "    doubles_df['a_fitness'] = single_a_fitness.centered_fitness.tolist()\n",
        "    doubles_df['b_fitness'] = single_b_fitness.centered_fitness.tolist()\n",
        "    residual = doubles_df.centered_fitness - doubles_df.a_fitness - doubles_df.b_fitness + real_landscape[real_landscape.AAs == wt].centered_fitness.item()\n",
        "    doubles_df['residual'] = residual\n",
        "    return doubles_df\n",
        "\n",
        "def get_epistasis_stats(real_landscape: pd.DataFrame, doubles_df: pd.DataFrame, wt: str) -> [float, float]:\n",
        "    \"\"\"Returns statistics about epistasis for combinations of singles.\n",
        "\n",
        "    Mean epistasis effect size is defined as the average effect of epistasis when two single mutants\n",
        "    from the selected set are combined. The rate of reciprocal sign epistasis is defined as the fraction\n",
        "    of epistatic interactions that have effects opposing the effects of the constituent singles. (e.g. the rate\n",
        "    of negative epistasis for adaptive singles in combination).\n",
        "\n",
        "    Args:\n",
        "      landscape: The landscape.\n",
        "      doubles_df: A DataFrame consisting of double mutants to compute epistasis statistic son.\n",
        "\n",
        "    Returns:\n",
        "        mean_epistasis_effect: The average effect of epistasis when two single mutants from the selected set are combined.\n",
        "        rate_reciprocal_sign_epistasis: The fraction of epistatic interactions that have opposite effects to the constituent singles.\n",
        "    \"\"\"\n",
        "    wt_encoded = [ALL_AAS.index(x) for x in wt]\n",
        "    \n",
        "    residual = get_doubles_df(real_landscape, threshold=0, adaptive= True).residual\n",
        "    threshold = real_landscape[real_landscape.AAs == wt].centered_fitness.item()\n",
        "\n",
        "    mean_epistasis_effect = np.mean(residual) # avg difference between double and single mutants\n",
        "    if (doubles_df.a_fitness >= threshold).all() and (doubles_df.b_fitness >= threshold).all():\n",
        "        adaptive = True\n",
        "    elif (doubles_df.a_fitness < threshold).all() and (doubles_df.b_fitness < threshold).all():\n",
        "        adaptive = False\n",
        "    else:\n",
        "        raise ValueError('Reciprocal sign epistasis undefined for inconsistent doubles effects.')\n",
        "\n",
        "    if adaptive:\n",
        "        rate_reciprocal_epistasis = (residual < 0).sum() / residual.shape[0]\n",
        "    else:\n",
        "        rate_reciprocal_epistasis = (residual > 0).sum() / residual.shape[0] # reciprocal sign epistasis (as defined by kadina)\n",
        "    return mean_epistasis_effect, rate_reciprocal_epistasis"
      ]
    },
    {
      "cell_type": "code",
      "execution_count": 19,
      "metadata": {},
      "outputs": [],
      "source": [
        "def get_mean_single_effect(real_landscape: pd.DataFrame, threshold: float, adaptive: bool, wt: str) -> float:\n",
        "    \"\"\"Returns average effect size of singles for a given threshold.\n",
        "\n",
        "    Args:\n",
        "      landscape: The landscape.\n",
        "      threshold: The threshold fitness for singles.\n",
        "      adaptive: If True, thresholded singles will have fitness >= `threshold`. If False,\n",
        "        selected singles will have fitness < `threshold`.\n",
        "\n",
        "    Returns:\n",
        "      The average effect size of the selected singles.\n",
        "    \"\"\"\n",
        "    wt_seq = [ALL_AAS.index(x) for x in wt]\n",
        "\n",
        "    all_singles = get_all_single_mutants(wt_seq, 20)\n",
        "\n",
        "    real_landscape = real_landscape[real_landscape.sequence.isin(all_singles)]\n",
        "\n",
        "    if adaptive:\n",
        "        mean_single_effect = real_landscape[real_landscape.centered_fitness >= threshold].centered_fitness.mean()\n",
        "    else:\n",
        "        mean_single_effect = real_landscape[real_landscape.centered_fitness < threshold].centered_fitness.mean()\n",
        "    return mean_single_effect\n",
        "\n",
        "def get_epistatic_horizon(real_landscape: pd.DataFrame, mean_single_effect) -> float:\n",
        "    r\"\"\"Returns the epistatic horizon for the given landscape.\n",
        "\n",
        "    The \"epistatic horizon\" is defined as the distance K from the wildtype at which, on average,\n",
        "    epistatic contributions outweigh linear contributions from adaptive singles. This is interpreted as\n",
        "    the average distance we can expect a greedy algorithm to perform well on the given landscape.\n",
        "\n",
        "    Let s_+ be the average adaptive single mutant effect. let e_{+,+} be the average\n",
        "    epistatic effect for a pair of adaptive singles. Then K is defined as :\n",
        "\n",
        "    $$\n",
        "    K * s_+ + (K \\\\choose 2) e_{+,+} = 0\n",
        "    $$\n",
        "\n",
        "    Solving for K:\n",
        "\n",
        "    $$\n",
        "    K = \\\\dfrac{e_{+,+} - 2 s_+}\n",
        "               {e_{+,+}}\n",
        "    $$\n",
        "\n",
        "    Returns:\n",
        "      The epistatic horizon.\n",
        "    \"\"\"\n",
        "    doubles_df = get_doubles_df(real_landscape, threshold=0.0, adaptive=True)\n",
        "    mean_adaptive_epistasis, _ = get_epistasis_stats(real_landscape, doubles_df)\n",
        "    if mean_single_effect == 0.0:\n",
        "        epistatic_horizon = np.inf\n",
        "    else:\n",
        "        epistatic_horizon = (mean_adaptive_epistasis - 2 * mean_single_effect) / mean_adaptive_epistasis\n",
        "    return epistatic_horizon"
      ]
    },
    {
      "cell_type": "markdown",
      "metadata": {
        "id": "vpxBtqkb7HuK"
      },
      "source": [
        "# Load a landscape from an existing set of weights"
      ]
    },
    {
      "cell_type": "code",
      "execution_count": 34,
      "metadata": {},
      "outputs": [],
      "source": [
        "## mogwai potts model\n",
        "# location = '/home/zahra/useful_code_for_zahra/slip/mogwai/data/TrpB/'\n",
        "# file = location + 'tm9d8s_b0.3_potts_state_dict_updated_200_epochs.npz'\n",
        "\n",
        "# mutation predictability potts model\n",
        "location = '/home/zahra/Synthetic_Landscapes/Data/1_potts_results/'\n",
        "file = location + 'GB1/output.npz'\n",
        "\n",
        "# wt = 'VFVS' # TrpB\n",
        "wt = 'VDGV' # GB1"
      ]
    },
    {
      "cell_type": "code",
      "execution_count": 35,
      "metadata": {},
      "outputs": [],
      "source": [
        "# Only need to run once\n",
        "# # Update Potts Model output to only contain four sites of inteterest\n",
        "# sites = [183, 184, 227, 228] # TrpB\n",
        "sites = [39,40,41,54] # GB1\n",
        "sites = [p-1 for p in sites] # subtract 1 for zero indexing, start w 397 rows don't subtract 3 for lowerecase letters\n",
        "\n",
        "data = np.load(file, allow_pickle=True)\n",
        "\n",
        "seq = [ALL_AAS.index(aa) for aa in wt]\n",
        "bias = data['arr_0'][sites, :]\n",
        "weights = data['arr_1']\n",
        "\n",
        "# takes more effort to extract proper indices weights (otherwise 3rd col gets dropped)\n",
        "temp = np.empty((4, 20, 4, 20))\n",
        "\n",
        "for i, row_pos in enumerate(sites):\n",
        "    for j, col_pos in enumerate(sites):\n",
        "        temp[i, :, j, :] = weights[row_pos, :, col_pos, :]\n",
        "\n",
        "weights = temp\n",
        "\n",
        "# print(weights.shape) #--> (4, 20, 4, 20)\n",
        "# print(bias.shape) # --> (4, 20)\n",
        "\n",
        "f = np.savez(location + 'GB1_output_4site.npz', bias=bias, weight=weights, query_seq=seq)\n"
      ]
    },
    {
      "cell_type": "code",
      "execution_count": 36,
      "metadata": {},
      "outputs": [
        {
          "data": {
            "text/plain": [
              "Text(0.5, 0.98, 'Mutation Predictability Potts Model Bias')"
            ]
          },
          "execution_count": 36,
          "metadata": {},
          "output_type": "execute_result"
        },
        {
          "data": {
            "image/png": "[encoded data removed]",
            "text/plain": [
              "<Figure size 900x700 with 4 Axes>"
            ]
          },
          "metadata": {},
          "output_type": "display_data"
        }
      ],
      "source": [
        "# checking for most conserved positions of 4 site landscape --> looks great\n",
        "\n",
        "import matplotlib.pyplot as plt\n",
        "\n",
        "positions = [0, 1, 2, 3]\n",
        "\n",
        "plt.figure(figsize=(9,7))\n",
        "\n",
        "consv = 'VDGV'\n",
        "\n",
        "for p in positions:\n",
        "    plt.subplot(2,2,p+1)\n",
        "    for i in range(20):\n",
        "        plt.bar(ALL_AAS[i], bias[p][i], color = 'c')\n",
        "    wt_aa = ALL_AAS.find(wt[p])\n",
        "    consv_aa = ALL_AAS.find(consv[p])\n",
        "    plt.bar(wt[p], bias[p][wt_aa], color = 'olive')\n",
        "    plt.bar(consv[p], bias[p][consv_aa], color = 'orange')\n",
        "    plt.title('Position ' + str(p+1))\n",
        "plt.suptitle('Mutation Predictability Potts Model Bias', fontsize=16)"
      ]
    },
    {
      "cell_type": "code",
      "execution_count": 37,
      "metadata": {
        "id": "cSh4YzGq7HFj"
      },
      "outputs": [],
      "source": [
        "# load landscape\n",
        "# see slip.potts_model.PottsModel for tuning kwargs.\n",
        "\n",
        "file = location + 'GB1_output_4site.npz'\n",
        "landscape = potts_model.load_from_mogwai_npz(file, coupling_scale=1.0)\n",
        "VOCAB_SIZE = 20"
      ]
    },
    {
      "cell_type": "code",
      "execution_count": 38,
      "metadata": {},
      "outputs": [
        {
          "name": "stdout",
          "output_type": "stream",
          "text": [
            "V\n",
            "D\n",
            "G\n",
            "V\n"
          ]
        }
      ],
      "source": [
        "# whole landscape wildtype seq is correct (does not include lowercase letters) \n",
        "\n",
        "# 4 site landscape wildtype seq is correct (VFVS)\n",
        "for p in landscape.wildtype_sequence:\n",
        "    print(ALL_AAS[p])"
      ]
    },
    {
      "cell_type": "code",
      "execution_count": 39,
      "metadata": {},
      "outputs": [
        {
          "ename": "ValueError",
          "evalue": "Invalid Landscape: fewer than 2 singles for threshold 0.0",
          "output_type": "error",
          "traceback": [
            "\u001b[0;31m---------------------------------------------------------------------------\u001b[0m",
            "\u001b[0;31mValueError\u001b[0m                                Traceback (most recent call last)",
            "\u001b[1;32m/home/zahra/useful_code_for_zahra/slip/generate_synthetic_landscape.ipynb Cell 15\u001b[0m line \u001b[0;36m2\n\u001b[1;32m      <a href='vscode-notebook-cell://ssh-remote%2Bwolfird/home/zahra/useful_code_for_zahra/slip/generate_synthetic_landscape.ipynb#X20sdnNjb2RlLXJlbW90ZQ%3D%3D?line=0'>1</a>\u001b[0m \u001b[39m# Untuned landscape stats\u001b[39;00m\n\u001b[0;32m----> <a href='vscode-notebook-cell://ssh-remote%2Bwolfird/home/zahra/useful_code_for_zahra/slip/generate_synthetic_landscape.ipynb#X20sdnNjb2RlLXJlbW90ZQ%3D%3D?line=1'>2</a>\u001b[0m tuning\u001b[39m.\u001b[39;49mget_landscape_stats(landscape)\n",
            "File \u001b[0;32m~/useful_code_for_zahra/slip/tuning.py:189\u001b[0m, in \u001b[0;36mget_landscape_stats\u001b[0;34m(landscape)\u001b[0m\n\u001b[1;32m    187\u001b[0m \u001b[39mdef\u001b[39;00m \u001b[39mget_landscape_stats\u001b[39m(landscape: potts_model\u001b[39m.\u001b[39mPottsModel) \u001b[39m-\u001b[39m\u001b[39m>\u001b[39m \u001b[39mdict\u001b[39m:\n\u001b[1;32m    188\u001b[0m \u001b[39m    \u001b[39m\u001b[39m\"\"\"Returns a dictionary of landscape statistics.\"\"\"\u001b[39;00m\n\u001b[0;32m--> 189\u001b[0m     adaptive_doubles_df \u001b[39m=\u001b[39m get_doubles_df(\n\u001b[1;32m    190\u001b[0m         landscape, threshold\u001b[39m=\u001b[39;49m\u001b[39m0.0\u001b[39;49m, adaptive\u001b[39m=\u001b[39;49m\u001b[39mTrue\u001b[39;49;00m)\n\u001b[1;32m    191\u001b[0m     reciprocal_adaptive_epistasis_effect, fraction_reciprocal_adaptive_epistasis \u001b[39m=\u001b[39m get_epistasis_stats(\n\u001b[1;32m    192\u001b[0m         landscape, adaptive_doubles_df)\n\u001b[1;32m    193\u001b[0m     stats_dict \u001b[39m=\u001b[39m {\u001b[39m'\u001b[39m\u001b[39mfraction_adaptive_singles\u001b[39m\u001b[39m'\u001b[39m: get_adaptive_single_fraction(landscape),\n\u001b[1;32m    194\u001b[0m                   \u001b[39m'\u001b[39m\u001b[39mreciprocal_adaptive_epistasis_effect\u001b[39m\u001b[39m'\u001b[39m: reciprocal_adaptive_epistasis_effect,\n\u001b[1;32m    195\u001b[0m                   \u001b[39m'\u001b[39m\u001b[39mfraction_reciprocal_adaptive_epistasis\u001b[39m\u001b[39m'\u001b[39m: fraction_reciprocal_adaptive_epistasis,\n\u001b[1;32m    196\u001b[0m                   \u001b[39m'\u001b[39m\u001b[39mepistatic_horizon\u001b[39m\u001b[39m'\u001b[39m: get_epistatic_horizon(landscape),\n\u001b[1;32m    197\u001b[0m                   \u001b[39m'\u001b[39m\u001b[39mstd_singles\u001b[39m\u001b[39m'\u001b[39m: get_single_std(landscape)}\n",
            "File \u001b[0;32m~/useful_code_for_zahra/slip/tuning.py:66\u001b[0m, in \u001b[0;36mget_doubles_df\u001b[0;34m(landscape, threshold, adaptive)\u001b[0m\n\u001b[1;32m     64\u001b[0m     singles \u001b[39m=\u001b[39m df[df\u001b[39m.\u001b[39mfitness \u001b[39m<\u001b[39m threshold]\u001b[39m.\u001b[39msequence\n\u001b[1;32m     65\u001b[0m \u001b[39mif\u001b[39;00m \u001b[39mlen\u001b[39m(singles) \u001b[39m<\u001b[39m \u001b[39m2\u001b[39m:\n\u001b[0;32m---> 66\u001b[0m     \u001b[39mraise\u001b[39;00m \u001b[39mValueError\u001b[39;00m(\u001b[39mf\u001b[39m\u001b[39m'\u001b[39m\u001b[39mInvalid Landscape: fewer than 2 singles for threshold \u001b[39m\u001b[39m{\u001b[39;00mthreshold\u001b[39m}\u001b[39;00m\u001b[39m'\u001b[39m)\n\u001b[1;32m     67\u001b[0m doubles \u001b[39m=\u001b[39m []\n\u001b[1;32m     68\u001b[0m single_a \u001b[39m=\u001b[39m []\n",
            "\u001b[0;31mValueError\u001b[0m: Invalid Landscape: fewer than 2 singles for threshold 0.0"
          ]
        }
      ],
      "source": [
        "# Untuned landscape stats\n",
        "tuning.get_landscape_stats(landscape)"
      ]
    },
    {
      "cell_type": "code",
      "execution_count": 13,
      "metadata": {},
      "outputs": [
        {
          "name": "stderr",
          "output_type": "stream",
          "text": [
            "/tmp/ipykernel_91130/1588729758.py:65: SettingWithCopyWarning: \n",
            "A value is trying to be set on a copy of a slice from a DataFrame.\n",
            "Try using .loc[row_indexer,col_indexer] = value instead\n",
            "\n",
            "See the caveats in the documentation: https://pandas.pydata.org/pandas-docs/stable/user_guide/indexing.html#returning-a-view-versus-a-copy\n",
            "  doubles_df['a_fitness'] = single_a_fitness.centered_fitness.tolist()\n",
            "/tmp/ipykernel_91130/1588729758.py:66: SettingWithCopyWarning: \n",
            "A value is trying to be set on a copy of a slice from a DataFrame.\n",
            "Try using .loc[row_indexer,col_indexer] = value instead\n",
            "\n",
            "See the caveats in the documentation: https://pandas.pydata.org/pandas-docs/stable/user_guide/indexing.html#returning-a-view-versus-a-copy\n",
            "  doubles_df['b_fitness'] = single_b_fitness.centered_fitness.tolist()\n",
            "/tmp/ipykernel_91130/1588729758.py:68: SettingWithCopyWarning: \n",
            "A value is trying to be set on a copy of a slice from a DataFrame.\n",
            "Try using .loc[row_indexer,col_indexer] = value instead\n",
            "\n",
            "See the caveats in the documentation: https://pandas.pydata.org/pandas-docs/stable/user_guide/indexing.html#returning-a-view-versus-a-copy\n",
            "  doubles_df['residual'] = residual\n",
            "/tmp/ipykernel_91130/1588729758.py:65: SettingWithCopyWarning: \n",
            "A value is trying to be set on a copy of a slice from a DataFrame.\n",
            "Try using .loc[row_indexer,col_indexer] = value instead\n",
            "\n",
            "See the caveats in the documentation: https://pandas.pydata.org/pandas-docs/stable/user_guide/indexing.html#returning-a-view-versus-a-copy\n",
            "  doubles_df['a_fitness'] = single_a_fitness.centered_fitness.tolist()\n",
            "/tmp/ipykernel_91130/1588729758.py:66: SettingWithCopyWarning: \n",
            "A value is trying to be set on a copy of a slice from a DataFrame.\n",
            "Try using .loc[row_indexer,col_indexer] = value instead\n",
            "\n",
            "See the caveats in the documentation: https://pandas.pydata.org/pandas-docs/stable/user_guide/indexing.html#returning-a-view-versus-a-copy\n",
            "  doubles_df['b_fitness'] = single_b_fitness.centered_fitness.tolist()\n",
            "/tmp/ipykernel_91130/1588729758.py:68: SettingWithCopyWarning: \n",
            "A value is trying to be set on a copy of a slice from a DataFrame.\n",
            "Try using .loc[row_indexer,col_indexer] = value instead\n",
            "\n",
            "See the caveats in the documentation: https://pandas.pydata.org/pandas-docs/stable/user_guide/indexing.html#returning-a-view-versus-a-copy\n",
            "  doubles_df['residual'] = residual\n",
            "/tmp/ipykernel_91130/1588729758.py:65: SettingWithCopyWarning: \n",
            "A value is trying to be set on a copy of a slice from a DataFrame.\n",
            "Try using .loc[row_indexer,col_indexer] = value instead\n",
            "\n",
            "See the caveats in the documentation: https://pandas.pydata.org/pandas-docs/stable/user_guide/indexing.html#returning-a-view-versus-a-copy\n",
            "  doubles_df['a_fitness'] = single_a_fitness.centered_fitness.tolist()\n",
            "/tmp/ipykernel_91130/1588729758.py:66: SettingWithCopyWarning: \n",
            "A value is trying to be set on a copy of a slice from a DataFrame.\n",
            "Try using .loc[row_indexer,col_indexer] = value instead\n",
            "\n",
            "See the caveats in the documentation: https://pandas.pydata.org/pandas-docs/stable/user_guide/indexing.html#returning-a-view-versus-a-copy\n",
            "  doubles_df['b_fitness'] = single_b_fitness.centered_fitness.tolist()\n",
            "/tmp/ipykernel_91130/1588729758.py:68: SettingWithCopyWarning: \n",
            "A value is trying to be set on a copy of a slice from a DataFrame.\n",
            "Try using .loc[row_indexer,col_indexer] = value instead\n",
            "\n",
            "See the caveats in the documentation: https://pandas.pydata.org/pandas-docs/stable/user_guide/indexing.html#returning-a-view-versus-a-copy\n",
            "  doubles_df['residual'] = residual\n",
            "/tmp/ipykernel_91130/1588729758.py:65: SettingWithCopyWarning: \n",
            "A value is trying to be set on a copy of a slice from a DataFrame.\n",
            "Try using .loc[row_indexer,col_indexer] = value instead\n",
            "\n",
            "See the caveats in the documentation: https://pandas.pydata.org/pandas-docs/stable/user_guide/indexing.html#returning-a-view-versus-a-copy\n",
            "  doubles_df['a_fitness'] = single_a_fitness.centered_fitness.tolist()\n",
            "/tmp/ipykernel_91130/1588729758.py:66: SettingWithCopyWarning: \n",
            "A value is trying to be set on a copy of a slice from a DataFrame.\n",
            "Try using .loc[row_indexer,col_indexer] = value instead\n",
            "\n",
            "See the caveats in the documentation: https://pandas.pydata.org/pandas-docs/stable/user_guide/indexing.html#returning-a-view-versus-a-copy\n",
            "  doubles_df['b_fitness'] = single_b_fitness.centered_fitness.tolist()\n",
            "/tmp/ipykernel_91130/1588729758.py:68: SettingWithCopyWarning: \n",
            "A value is trying to be set on a copy of a slice from a DataFrame.\n",
            "Try using .loc[row_indexer,col_indexer] = value instead\n",
            "\n",
            "See the caveats in the documentation: https://pandas.pydata.org/pandas-docs/stable/user_guide/indexing.html#returning-a-view-versus-a-copy\n",
            "  doubles_df['residual'] = residual\n"
          ]
        }
      ],
      "source": [
        "# Get real landscape stats\n",
        "doubles_df = get_doubles_df(real_data, threshold=0, adaptive=True, wt=wt)\n",
        "fraction_adaptive_singles = get_adaptive_single_fraction(real_data, wt)\n",
        "epistasis_stats = get_epistasis_stats(real_data, doubles_df, wt)\n",
        "mean_single_effect = get_mean_single_effect(real_data, threshold=0, adaptive=True, wt=wt)\n",
        "epistatic_horizon = get_epistatic_horizon(real_data, mean_single_effect, wt=wt)"
      ]
    },
    {
      "cell_type": "code",
      "execution_count": 14,
      "metadata": {},
      "outputs": [
        {
          "name": "stdout",
          "output_type": "stream",
          "text": [
            "fraction adaptive singles:  0.11842105263157894\n",
            "adaptive mean epistasis effect:  -0.3395829634742197\n",
            "rate reciprocal sign epistasis:  0.8518518518518519\n",
            "mean single effect:  0.20745920680352958\n",
            "epistatic horizon:  2.2218469659434454\n"
          ]
        }
      ],
      "source": [
        "print('fraction adaptive singles: ', fraction_adaptive_singles)\n",
        "print('adaptive mean epistasis effect: ', epistasis_stats[0])\n",
        "print('rate reciprocal sign epistasis: ', epistasis_stats[1])\n",
        "print('mean single effect: ', mean_single_effect)\n",
        "print('epistatic horizon: ', epistatic_horizon)"
      ]
    },
    {
      "cell_type": "code",
      "execution_count": 14,
      "metadata": {},
      "outputs": [
        {
          "name": "stdout",
          "output_type": "stream",
          "text": [
            "Untuned landscape stats:\n",
            "{'epistatic_horizon': -71.50406867090209,\n",
            " 'fraction_adaptive_singles': 0.07894736842105263,\n",
            " 'fraction_reciprocal_adaptive_epistasis': 0.25,\n",
            " 'reciprocal_adaptive_epistasis_effect': 0.05316886923113392,\n",
            " 'std_singles': 3.5412742369613714}\n",
            "\n",
            " Tuned landscape stats:\n"
          ]
        },
        {
          "data": {
            "text/plain": [
              "{'fraction_adaptive_singles': 0.8947368421052632,\n",
              " 'reciprocal_adaptive_epistasis_effect': -11.054418511627569,\n",
              " 'fraction_reciprocal_adaptive_epistasis': 0.8997101449275362,\n",
              " 'epistatic_horizon': 1.9999875263598197,\n",
              " 'std_singles': 3.541274379988924}"
            ]
          },
          "execution_count": 14,
          "metadata": {},
          "output_type": "execute_result"
        }
      ],
      "source": [
        "# Tune landscape\n",
        "tuning_kwargs = tuning.get_tuning_kwargs(landscape, fraction_adaptive_singles= fraction_adaptive_singles, fraction_reciprocal_adaptive_epistasis=epistasis_stats[1], epistatic_horizon=epistatic_horizon)\n",
        "# tuning_kwargs = tuning.get_tuning_kwargs(landscape, fraction_adaptive_singles= 0.9, fraction_reciprocal_adaptive_epistasis=0.9, epistatic_horizon=2)\n",
        "\n",
        "\n",
        "tuned_landscape = potts_model.load_from_mogwai_npz(file, **tuning_kwargs)\n",
        "print('\\n Tuned landscape stats:')\n",
        "tuning.get_landscape_stats(tuned_landscape)"
      ]
    },
    {
      "cell_type": "code",
      "execution_count": 31,
      "metadata": {},
      "outputs": [
        {
          "data": {
            "image/png": "[encoded data removed]",
            "text/plain": [
              "<Figure size 800x600 with 4 Axes>"
            ]
          },
          "metadata": {},
          "output_type": "display_data"
        }
      ],
      "source": [
        "# positions = [0, 1, 2, 3]\n",
        "\n",
        "# plt.figure(figsize=(8,6))\n",
        "\n",
        "# wt = 'VFVS'\n",
        "# consv = 'ILVG'\n",
        "\n",
        "# for p in positions:\n",
        "#     plt.subplot(2,2,p+1)\n",
        "#     for i in range(20):\n",
        "#         plt.bar(ALL_AAS[i], tuned_landscape.field_vec[p][i], color = 'c')\n",
        "#     wt_aa = ALL_AAS.find(wt[p])\n",
        "#     consv_aa = ALL_AAS.find(consv[p])\n",
        "#     plt.bar(wt[p], tuned_landscape.field_vec[p][wt_aa], color = 'olive')\n",
        "#     plt.bar(consv[p], tuned_landscape.field_vec[p][consv_aa], color = 'orange')\n",
        "#     plt.title('Position ' + str(p+1))"
      ]
    },
    {
      "cell_type": "code",
      "execution_count": 26,
      "metadata": {},
      "outputs": [],
      "source": [
        "def get_combos(sequence, vocab_size, sites):\n",
        "    \"\"\"Returns all single mutants of given `sequence`.\n",
        "\n",
        "    For a given sequence, at each position there are `vocab_size` - 1 possible\n",
        "    mutations.\n",
        "\n",
        "    Args:\n",
        "      sequence: A 1d vector of ints.\n",
        "      vocab_size: The vocabulary size.\n",
        "\n",
        "    Returns:\n",
        "      A [(V-1)*L, L] numpy array of integer encoded sequences, where L is the\n",
        "      length of the sequence and V is the vocab size.\n",
        "    \"\"\"\n",
        "    sequence = np.array(sequence)\n",
        "    seq_length = len(sequence)\n",
        "\n",
        "    #substract the number of lower case letters at the beginning\n",
        "    sites = [site - 3 - 1 for site in sites]\n",
        "\n",
        "    #use itertools to get all combinations of mutations\n",
        "    all_combos_tokens  = list(itertools.product(range(vocab_size), repeat=len(sites)))\n",
        "\n",
        "\n",
        "    all_seqs = []\n",
        "    for variant in all_combos_tokens:\n",
        "        sequence = sequence.copy()\n",
        "        for token, site in zip(variant, sites):\n",
        "            sequence[site] = token\n",
        "        all_seqs.append(sequence)\n",
        "\n",
        "    return np.vstack(all_seqs)"
      ]
    },
    {
      "cell_type": "code",
      "execution_count": 16,
      "metadata": {},
      "outputs": [],
      "source": [
        "#landscape = tuned_landscape\n",
        "foursite = get_combos(tuned_landscape.wildtype_sequence, VOCAB_SIZE, [0, 1, 2, 3])\n",
        "\n",
        "# assign AA for each variant\n",
        "d = dict(enumerate(ALL_AAS))\n",
        "foursite_AA = np.vectorize(d.get)(foursite)"
      ]
    },
    {
      "cell_type": "code",
      "execution_count": 17,
      "metadata": {},
      "outputs": [
        {
          "data": {
            "text/html": [
              "<div>\n",
              "<style scoped>\n",
              "    .dataframe tbody tr th:only-of-type {\n",
              "        vertical-align: middle;\n",
              "    }\n",
              "\n",
              "    .dataframe tbody tr th {\n",
              "        vertical-align: top;\n",
              "    }\n",
              "\n",
              "    .dataframe thead th {\n",
              "        text-align: right;\n",
              "    }\n",
              "</style>\n",
              "<table border=\"1\" class=\"dataframe\">\n",
              "  <thead>\n",
              "    <tr style=\"text-align: right;\">\n",
              "      <th></th>\n",
              "      <th>sequence</th>\n",
              "      <th>AA1</th>\n",
              "      <th>AA2</th>\n",
              "      <th>AA3</th>\n",
              "      <th>AA4</th>\n",
              "      <th>num_mutations</th>\n",
              "      <th>fitness</th>\n",
              "      <th>active</th>\n",
              "    </tr>\n",
              "    <tr>\n",
              "      <th>AAs</th>\n",
              "      <th></th>\n",
              "      <th></th>\n",
              "      <th></th>\n",
              "      <th></th>\n",
              "      <th></th>\n",
              "      <th></th>\n",
              "      <th></th>\n",
              "      <th></th>\n",
              "    </tr>\n",
              "  </thead>\n",
              "  <tbody>\n",
              "    <tr>\n",
              "      <th>LVVS</th>\n",
              "      <td>[10, 19, 19, 15]</td>\n",
              "      <td>L</td>\n",
              "      <td>V</td>\n",
              "      <td>V</td>\n",
              "      <td>S</td>\n",
              "      <td>2</td>\n",
              "      <td>59.319327</td>\n",
              "      <td>True</td>\n",
              "    </tr>\n",
              "    <tr>\n",
              "      <th>MIVG</th>\n",
              "      <td>[12, 9, 19, 7]</td>\n",
              "      <td>M</td>\n",
              "      <td>I</td>\n",
              "      <td>V</td>\n",
              "      <td>G</td>\n",
              "      <td>3</td>\n",
              "      <td>57.909255</td>\n",
              "      <td>True</td>\n",
              "    </tr>\n",
              "    <tr>\n",
              "      <th>LLVS</th>\n",
              "      <td>[10, 10, 19, 15]</td>\n",
              "      <td>L</td>\n",
              "      <td>L</td>\n",
              "      <td>V</td>\n",
              "      <td>S</td>\n",
              "      <td>2</td>\n",
              "      <td>56.940079</td>\n",
              "      <td>True</td>\n",
              "    </tr>\n",
              "    <tr>\n",
              "      <th>CVIS</th>\n",
              "      <td>[4, 19, 9, 15]</td>\n",
              "      <td>C</td>\n",
              "      <td>V</td>\n",
              "      <td>I</td>\n",
              "      <td>S</td>\n",
              "      <td>3</td>\n",
              "      <td>53.256630</td>\n",
              "      <td>True</td>\n",
              "    </tr>\n",
              "    <tr>\n",
              "      <th>LLTS</th>\n",
              "      <td>[10, 10, 16, 15]</td>\n",
              "      <td>L</td>\n",
              "      <td>L</td>\n",
              "      <td>T</td>\n",
              "      <td>S</td>\n",
              "      <td>3</td>\n",
              "      <td>52.837866</td>\n",
              "      <td>True</td>\n",
              "    </tr>\n",
              "    <tr>\n",
              "      <th>...</th>\n",
              "      <td>...</td>\n",
              "      <td>...</td>\n",
              "      <td>...</td>\n",
              "      <td>...</td>\n",
              "      <td>...</td>\n",
              "      <td>...</td>\n",
              "      <td>...</td>\n",
              "      <td>...</td>\n",
              "    </tr>\n",
              "    <tr>\n",
              "      <th>IMQN</th>\n",
              "      <td>[9, 12, 5, 2]</td>\n",
              "      <td>I</td>\n",
              "      <td>M</td>\n",
              "      <td>Q</td>\n",
              "      <td>N</td>\n",
              "      <td>4</td>\n",
              "      <td>-88.110298</td>\n",
              "      <td>False</td>\n",
              "    </tr>\n",
              "    <tr>\n",
              "      <th>IMAN</th>\n",
              "      <td>[9, 12, 0, 2]</td>\n",
              "      <td>I</td>\n",
              "      <td>M</td>\n",
              "      <td>A</td>\n",
              "      <td>N</td>\n",
              "      <td>4</td>\n",
              "      <td>-88.342368</td>\n",
              "      <td>False</td>\n",
              "    </tr>\n",
              "    <tr>\n",
              "      <th>IMCN</th>\n",
              "      <td>[9, 12, 4, 2]</td>\n",
              "      <td>I</td>\n",
              "      <td>M</td>\n",
              "      <td>C</td>\n",
              "      <td>N</td>\n",
              "      <td>4</td>\n",
              "      <td>-88.343526</td>\n",
              "      <td>False</td>\n",
              "    </tr>\n",
              "    <tr>\n",
              "      <th>IMAV</th>\n",
              "      <td>[9, 12, 0, 19]</td>\n",
              "      <td>I</td>\n",
              "      <td>M</td>\n",
              "      <td>A</td>\n",
              "      <td>V</td>\n",
              "      <td>4</td>\n",
              "      <td>-88.778086</td>\n",
              "      <td>False</td>\n",
              "    </tr>\n",
              "    <tr>\n",
              "      <th>SMCV</th>\n",
              "      <td>[15, 12, 4, 19]</td>\n",
              "      <td>S</td>\n",
              "      <td>M</td>\n",
              "      <td>C</td>\n",
              "      <td>V</td>\n",
              "      <td>4</td>\n",
              "      <td>-89.555253</td>\n",
              "      <td>False</td>\n",
              "    </tr>\n",
              "  </tbody>\n",
              "</table>\n",
              "<p>160000 rows × 8 columns</p>\n",
              "</div>"
            ],
            "text/plain": [
              "              sequence AA1 AA2 AA3 AA4  num_mutations    fitness  active\n",
              "AAs                                                                     \n",
              "LVVS  [10, 19, 19, 15]   L   V   V   S              2  59.319327    True\n",
              "MIVG    [12, 9, 19, 7]   M   I   V   G              3  57.909255    True\n",
              "LLVS  [10, 10, 19, 15]   L   L   V   S              2  56.940079    True\n",
              "CVIS    [4, 19, 9, 15]   C   V   I   S              3  53.256630    True\n",
              "LLTS  [10, 10, 16, 15]   L   L   T   S              3  52.837866    True\n",
              "...                ...  ..  ..  ..  ..            ...        ...     ...\n",
              "IMQN     [9, 12, 5, 2]   I   M   Q   N              4 -88.110298   False\n",
              "IMAN     [9, 12, 0, 2]   I   M   A   N              4 -88.342368   False\n",
              "IMCN     [9, 12, 4, 2]   I   M   C   N              4 -88.343526   False\n",
              "IMAV    [9, 12, 0, 19]   I   M   A   V              4 -88.778086   False\n",
              "SMCV   [15, 12, 4, 19]   S   M   C   V              4 -89.555253   False\n",
              "\n",
              "[160000 rows x 8 columns]"
            ]
          },
          "execution_count": 17,
          "metadata": {},
          "output_type": "execute_result"
        }
      ],
      "source": [
        "# Rank fitness for different landscapes and export\n",
        "import math\n",
        "\n",
        "foursite = get_combos(tuned_landscape.wildtype_sequence, VOCAB_SIZE, [0, 1, 2, 3])\n",
        "\n",
        "# assign AA for each variant\n",
        "d = dict(enumerate(ALL_AAS))\n",
        "foursite_AA = np.vectorize(d.get)(foursite)\n",
        "\n",
        "df = experiment.get_fitness_df(foursite, tuned_landscape.evaluate, tuned_landscape.wildtype_sequence)\n",
        "df['AAs'] = foursite_AA.tolist()\n",
        "df['AAs'] = df['AAs'].apply(lambda x: ''.join(x))\n",
        "df.set_index('AAs', inplace=True)\n",
        "df = df.sort_values('fitness', ascending=False)\n",
        "\n",
        "# add columns for AA at each position\n",
        "for i in range(4):\n",
        "    df.insert(i+1, f'AA{i+1}', df.index.to_series().apply(lambda x: x[i]))\n",
        "\n",
        "df['active'] = df['fitness'] > 0\n",
        "\n",
        "df.to_csv('/home/zahra/Synthetic_Landscapes/Data/112223_tuned_0.90.92_mut_pred_synthetic_landscape_TrpB.csv', index=True)\n",
        "\n",
        "df\n"
      ]
    },
    {
      "cell_type": "code",
      "execution_count": 35,
      "metadata": {},
      "outputs": [
        {
          "data": {
            "text/plain": [
              "Text(0.5, 0.98, 'AA Count for variants > WT \\n tuned w real ep stats')"
            ]
          },
          "execution_count": 35,
          "metadata": {},
          "output_type": "execute_result"
        },
        {
          "data": {
            "image/png": "[encoded data removed]",
            "text/plain": [
              "<Figure size 800x600 with 4 Axes>"
            ]
          },
          "metadata": {},
          "output_type": "display_data"
        }
      ],
      "source": [
        "# plot # AA at each position\n",
        "    # for variants with activity > wt (0)\n",
        "\n",
        "plt.figure(figsize=(8,6))\n",
        "\n",
        "active = df[df['active']]\n",
        "\n",
        "wt = 'VFVS'\n",
        "consv = 'ILVG'\n",
        "\n",
        "for i in range(4):\n",
        "    count_dict = dict(zip(ALL_AAS, [0]*20))\n",
        "    for aa in ALL_AAS:\n",
        "        count_dict[aa] = active['AA' + str(i+1)].str.count(aa).sum()\n",
        "    plt.subplot(2,2,i+1)\n",
        "    plt.bar(count_dict.keys(), count_dict.values(), color = 'c')\n",
        "    plt.bar(wt[i], count_dict[wt[i]], color = 'olive')\n",
        "    plt.bar(consv[i], count_dict[consv[i]], color = 'orange')\n",
        "    plt.title('Position ' + str(i+1))\n",
        "\n",
        "plt.suptitle('AA Count for variants > WT \\n tuned w real ep stats', fontsize=16)"
      ]
    },
    {
      "cell_type": "code",
      "execution_count": 28,
      "metadata": {},
      "outputs": [],
      "source": [
        "foursite = get_combos(landscape.wildtype_sequence, VOCAB_SIZE, [0, 1, 2, 3])\n",
        "df = experiment.get_fitness_df(foursite, landscape.evaluate, wt)"
      ]
    },
    {
      "cell_type": "code",
      "execution_count": 33,
      "metadata": {},
      "outputs": [
        {
          "name": "stdout",
          "output_type": "stream",
          "text": [
            "V\n",
            "D\n",
            "G\n",
            "V\n"
          ]
        }
      ],
      "source": [
        "df.sort_values('fitness', ascending=False)\n",
        "\n",
        "for i in [19, 3, 7, 19]:\n",
        "    print(ALL_AAS[i])"
      ]
    },
    {
      "cell_type": "code",
      "execution_count": 29,
      "metadata": {},
      "outputs": [
        {
          "data": {
            "image/png": "[encoded data removed]",
            "text/plain": [
              "<Figure size 800x400 with 2 Axes>"
            ]
          },
          "metadata": {},
          "output_type": "display_data"
        }
      ],
      "source": [
        "# plot synthetic and real fitness\n",
        "\n",
        "f, axs = plt.subplots(1, 2, figsize=(8, 4))\n",
        "sns.histplot(data=real_data, x='centered_fitness', ax=axs[0])\n",
        "sns.histplot(data=df, x='fitness', ax=axs[1])\n",
        "axs[0].set_title('Real TrpB')\n",
        "axs[1].set_title('Synthetic TrpB')\n",
        "f.tight_layout()"
      ]
    },
    {
      "cell_type": "code",
      "execution_count": 23,
      "metadata": {},
      "outputs": [
        {
          "data": {
            "image/png": "[encoded data removed]",
            "text/plain": [
              "<Figure size 640x480 with 1 Axes>"
            ]
          },
          "metadata": {},
          "output_type": "display_data"
        }
      ],
      "source": [
        "# plot tuned v untuned --> like SLIP figue 1\n",
        "\n",
        "# calculate sum of single mutant effects\n",
        "tuned_doubles_df = tuning.get_doubles_df(tuned_landscape, threshold=0, adaptive=True)\n",
        "tuned_doubles_df['sum_singles'] = tuned_doubles_df['a_fitness'] + tuned_doubles_df['b_fitness']\n",
        "\n",
        "doubles_df = tuning.get_doubles_df(landscape, threshold=0, adaptive=True)\n",
        "doubles_df['sum_singles'] = doubles_df['a_fitness'] + doubles_df['b_fitness']\n",
        "\n",
        "plt.scatter(doubles_df['sum_singles'], doubles_df['fitness'], alpha = 0.2, label = 'Untuned', zorder = 2)\n",
        "plt.scatter(tuned_doubles_df['sum_singles'], tuned_doubles_df['fitness'], alpha = 0.2, label = 'Tuned', zorder = 1)\n",
        "\n",
        "plt.xlabel('Sum single mutant effects')\n",
        "plt.ylabel('Fitness')\n",
        "plt.show()"
      ]
    },
    {
      "cell_type": "markdown",
      "metadata": {
        "id": "FaRwEDJd7KPU"
      },
      "source": [
        "# Sample a set of variants"
      ]
    },
    {
      "cell_type": "code",
      "execution_count": null,
      "metadata": {
        "id": "AA069J8f64IN"
      },
      "outputs": [],
      "source": [
        "all_singles = sampling.get_all_single_mutants(landscape.wildtype_sequence, VOCAB_SIZE)\n",
        "random_doubles = sampling.sample_within_hamming_radius(landscape.wildtype_sequence, 1000, VOCAB_SIZE, 2, 2)"
      ]
    },
    {
      "cell_type": "code",
      "execution_count": null,
      "metadata": {
        "id": "d-tvne_Z7QqS"
      },
      "outputs": [],
      "source": [
        "import pandas as pd\n",
        "\n",
        "singles_df = experiment.get_fitness_df(all_singles, landscape.evaluate, landscape.wildtype_sequence)\n",
        "singles_df['name'] = 'singles'\n",
        "random_doubles_df = experiment.get_fitness_df(random_doubles, landscape.evaluate, landscape.wildtype_sequence)\n",
        "random_doubles_df['name'] = 'random_doubles'\n",
        "\n",
        "df = pd.concat([singles_df, random_doubles_df], ignore_index=True)\n"
      ]
    },
    {
      "cell_type": "code",
      "execution_count": 1,
      "metadata": {
        "colab": {
          "base_uri": "https://localhost:8080/",
          "height": 523
        },
        "id": "pLyU0K3Q7SMM",
        "outputId": "d7666ad4-7f54-445d-d8cb-764187e67777"
      },
      "outputs": [
        {
          "ename": "NameError",
          "evalue": "name 'df' is not defined",
          "output_type": "error",
          "traceback": [
            "\u001b[0;31m---------------------------------------------------------------------------\u001b[0m",
            "\u001b[0;31mNameError\u001b[0m                                 Traceback (most recent call last)",
            "\u001b[1;32m/home/zahra/useful_code_for_zahra/slip/synthetic_landscape_TrpB.ipynb Cell 33\u001b[0m line \u001b[0;36m3\n\u001b[1;32m      <a href='vscode-notebook-cell://ssh-remote%2Bwolfird/home/zahra/useful_code_for_zahra/slip/synthetic_landscape_TrpB.ipynb#X44sdnNjb2RlLXJlbW90ZQ%3D%3D?line=0'>1</a>\u001b[0m \u001b[39mimport\u001b[39;00m \u001b[39mseaborn\u001b[39;00m \u001b[39mas\u001b[39;00m \u001b[39msns\u001b[39;00m\n\u001b[0;32m----> <a href='vscode-notebook-cell://ssh-remote%2Bwolfird/home/zahra/useful_code_for_zahra/slip/synthetic_landscape_TrpB.ipynb#X44sdnNjb2RlLXJlbW90ZQ%3D%3D?line=2'>3</a>\u001b[0m sns\u001b[39m.\u001b[39mdisplot(data\u001b[39m=\u001b[39mdf, x\u001b[39m=\u001b[39m\u001b[39m'\u001b[39m\u001b[39mfitness\u001b[39m\u001b[39m'\u001b[39m, hue\u001b[39m=\u001b[39m\u001b[39m'\u001b[39m\u001b[39mname\u001b[39m\u001b[39m'\u001b[39m)\n",
            "\u001b[0;31mNameError\u001b[0m: name 'df' is not defined"
          ]
        }
      ],
      "source": [
        "import seaborn as sns\n",
        "\n",
        "sns.displot(data=df, x='fitness', hue='name')"
      ]
    },
    {
      "cell_type": "markdown",
      "metadata": {
        "id": "-dD8aKaO7VKQ"
      },
      "source": [
        "# Take a random sample within distance 4"
      ]
    },
    {
      "cell_type": "code",
      "execution_count": null,
      "metadata": {
        "colab": {
          "base_uri": "https://localhost:8080/",
          "height": 554
        },
        "id": "VNhM4BNl7Sp2",
        "outputId": "e7a732c0-ddd4-4628-9ed4-3af60dd4838f"
      },
      "outputs": [],
      "source": [
        "sample = sampling.sample_within_hamming_radius(landscape.wildtype_sequence, 2000, VOCAB_SIZE, 0, 4)\n",
        "df = experiment.get_fitness_df(sample, landscape.evaluate, landscape.wildtype_sequence)\n",
        "\n",
        "train_df, test_df = experiment.get_distance_split_df(df, landscape.wildtype_sequence, 1)\n",
        "train_df['name'] = 'train'\n",
        "test_df['name'] = 'test'\n",
        "\n",
        "df = pd.concat([train_df, test_df], ignore_index=True)\n",
        "sns.lineplot(data=df, x='num_mutations', y='fitness', errorbar='sd', hue='name')"
      ]
    },
    {
      "cell_type": "markdown",
      "metadata": {
        "id": "eWLl_CrY7a6Q"
      },
      "source": [
        "# Designing sequences with a model"
      ]
    },
    {
      "cell_type": "markdown",
      "metadata": {
        "id": "jZbM0Tvt7cr6"
      },
      "source": [
        "## Train a CNN model"
      ]
    },
    {
      "cell_type": "code",
      "execution_count": null,
      "metadata": {
        "colab": {
          "base_uri": "https://localhost:8080/"
        },
        "id": "XZSfuWjS7cMM",
        "outputId": "fab36231-bb3a-4f9c-b9b5-2c7bb8fd5623"
      },
      "outputs": [],
      "source": [
        "SEQUENCE_LENGTH = len(landscape.wildtype_sequence)\n",
        "cnn_model, flatten_inputs = models.get_model('cnn', SEQUENCE_LENGTH, VOCAB_SIZE, model_kwargs={})\n",
        "experiment.fit_model(cnn_model, train_df, VOCAB_SIZE, flatten_inputs)"
      ]
    },
    {
      "cell_type": "markdown",
      "metadata": {
        "id": "VCEHqgYY7hwm"
      },
      "source": [
        "## Use the model to evaluate sequences\n",
        "\n",
        "See slip.experiment.py for a full example of setting up an MBO inner loop, etc."
      ]
    },
    {
      "cell_type": "code",
      "execution_count": null,
      "metadata": {
        "colab": {
          "base_uri": "https://localhost:8080/"
        },
        "id": "EFnLkt1w7lG1",
        "outputId": "d65ebb94-9a63-4d29-b94d-d9ce5e07058b"
      },
      "outputs": [],
      "source": [
        "x_test, y_true = utils.get_x_y_from_df(test_df, vocab_size=VOCAB_SIZE, flatten=flatten_inputs)\n",
        "y_pred = cnn_model.predict(x_test)"
      ]
    },
    {
      "cell_type": "code",
      "execution_count": null,
      "metadata": {
        "colab": {
          "base_uri": "https://localhost:8080/",
          "height": 559
        },
        "id": "67RgfQib7ZEA",
        "outputId": "3851d016-4a11-41c8-8ce9-476d50c12b17"
      },
      "outputs": [],
      "source": [
        "plot_df = test_df.copy()\n",
        "plot_df['residual'] = y_pred - y_true\n",
        "\n",
        "sns.lineplot(data=plot_df, x='num_mutations', y='residual', ci='sd')"
      ]
    }
  ],
  "metadata": {
    "accelerator": "GPU",
    "colab": {
      "provenance": []
    },
    "kernelspec": {
      "display_name": "Python 3",
      "name": "python3"
    },
    "language_info": {
      "codemirror_mode": {
        "name": "ipython",
        "version": 3
      },
      "file_extension": ".py",
      "mimetype": "text/x-python",
      "name": "python",
      "nbconvert_exporter": "python",
      "pygments_lexer": "ipython3",
      "version": "3.10.13"
    }
  },
  "nbformat": 4,
  "nbformat_minor": 0
}
